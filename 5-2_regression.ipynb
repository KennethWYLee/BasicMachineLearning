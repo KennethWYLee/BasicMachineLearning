{
 "cells": [
  {
   "cell_type": "markdown",
   "metadata": {},
   "source": [
    "### 5-2-1 學習資料的確認"
   ]
  },
  {
   "cell_type": "code",
   "execution_count": 77,
   "metadata": {},
   "outputs": [],
   "source": [
    "import numpy as np\n",
    "import matplotlib.pyplot as plt"
   ]
  },
  {
   "cell_type": "code",
   "execution_count": 78,
   "metadata": {},
   "outputs": [
    {
     "data": {
      "text/plain": [
       "array([[235., 591.],\n",
       "       [216., 539.],\n",
       "       [148., 413.],\n",
       "       [ 35., 310.],\n",
       "       [ 85., 308.],\n",
       "       [204., 519.],\n",
       "       [ 49., 325.],\n",
       "       [ 25., 332.],\n",
       "       [173., 498.],\n",
       "       [191., 498.],\n",
       "       [134., 392.],\n",
       "       [ 99., 334.],\n",
       "       [117., 385.],\n",
       "       [112., 387.],\n",
       "       [162., 425.],\n",
       "       [272., 659.],\n",
       "       [159., 400.],\n",
       "       [159., 427.],\n",
       "       [ 59., 319.],\n",
       "       [198., 522.]])"
      ]
     },
     "execution_count": 78,
     "metadata": {},
     "output_type": "execute_result"
    }
   ],
   "source": [
    "train = np.loadtxt('click.csv', delimiter=',', skiprows=1)\n",
    "train"
   ]
  },
  {
   "cell_type": "code",
   "execution_count": 79,
   "metadata": {},
   "outputs": [
    {
     "data": {
      "text/plain": [
       "array([[235., 591.],\n",
       "       [216., 539.],\n",
       "       [148., 413.],\n",
       "       [ 35., 310.],\n",
       "       [ 85., 308.],\n",
       "       [204., 519.],\n",
       "       [ 49., 325.],\n",
       "       [ 25., 332.],\n",
       "       [173., 498.],\n",
       "       [191., 498.],\n",
       "       [134., 392.],\n",
       "       [ 99., 334.],\n",
       "       [117., 385.],\n",
       "       [112., 387.],\n",
       "       [162., 425.],\n",
       "       [272., 659.],\n",
       "       [159., 400.],\n",
       "       [159., 427.],\n",
       "       [ 59., 319.],\n",
       "       [198., 522.]])"
      ]
     },
     "execution_count": 79,
     "metadata": {},
     "output_type": "execute_result"
    }
   ],
   "source": [
    "train"
   ]
  },
  {
   "cell_type": "code",
   "execution_count": 80,
   "metadata": {},
   "outputs": [
    {
     "data": {
      "text/plain": [
       "array([235., 216., 148.,  35.,  85., 204.,  49.,  25., 173., 191., 134.,\n",
       "        99., 117., 112., 162., 272., 159., 159.,  59., 198.])"
      ]
     },
     "execution_count": 80,
     "metadata": {},
     "output_type": "execute_result"
    }
   ],
   "source": [
    "train_x = train[:, 0]\n",
    "train_x"
   ]
  },
  {
   "cell_type": "code",
   "execution_count": 81,
   "metadata": {},
   "outputs": [
    {
     "data": {
      "text/plain": [
       "array([591., 539., 413., 310., 308., 519., 325., 332., 498., 498., 392.,\n",
       "       334., 385., 387., 425., 659., 400., 427., 319., 522.])"
      ]
     },
     "execution_count": 81,
     "metadata": {},
     "output_type": "execute_result"
    }
   ],
   "source": [
    "train_y = train[:, 1]\n",
    "train_y"
   ]
  },
  {
   "cell_type": "code",
   "execution_count": 82,
   "metadata": {},
   "outputs": [
    {
     "data": {
      "image/png": "[encoded data removed]",
      "text/plain": [
       "<Figure size 432x288 with 1 Axes>"
      ]
     },
     "metadata": {},
     "output_type": "display_data"
    }
   ],
   "source": [
    "plt.plot(train_x, train_y, 'o')\n",
    "plt.show()"
   ]
  },
  {
   "cell_type": "markdown",
   "metadata": {},
   "source": [
    "### 5-2-2 以一次函數來編寫程式\n",
    "### 5-2-3 圖形驗證"
   ]
  },
  {
   "cell_type": "code",
   "execution_count": 83,
   "metadata": {},
   "outputs": [],
   "source": [
    "from sklearn.linear_model import LinearRegression"
   ]
  },
  {
   "cell_type": "code",
   "execution_count": 84,
   "metadata": {},
   "outputs": [
    {
     "data": {
      "text/plain": [
       "LinearRegression(copy_X=True, fit_intercept=True, n_jobs=1, normalize=False)"
      ]
     },
     "execution_count": 84,
     "metadata": {},
     "output_type": "execute_result"
    }
   ],
   "source": [
    "lin_reg = LinearRegression()\n",
    "lin_reg.fit(train_x.reshape(-1, 1), train_y.reshape(-1, 1))"
   ]
  },
  {
   "cell_type": "code",
   "execution_count": 85,
   "metadata": {},
   "outputs": [
    {
     "data": {
      "text/plain": [
       "array([231.54575845])"
      ]
     },
     "execution_count": 85,
     "metadata": {},
     "output_type": "execute_result"
    }
   ],
   "source": [
    "lin_reg.intercept_"
   ]
  },
  {
   "cell_type": "code",
   "execution_count": 86,
   "metadata": {},
   "outputs": [
    {
     "data": {
      "text/plain": [
       "array([[1.39551018]])"
      ]
     },
     "execution_count": 86,
     "metadata": {},
     "output_type": "execute_result"
    }
   ],
   "source": [
    "lin_reg.coef_"
   ]
  },
  {
   "cell_type": "code",
   "execution_count": 87,
   "metadata": {
    "scrolled": true
   },
   "outputs": [
    {
     "data": {
      "text/plain": [
       "array([  0.,   1.,   2.,   3.,   4.,   5.,   6.,   7.,   8.,   9.,  10.,\n",
       "        11.,  12.,  13.,  14.,  15.,  16.,  17.,  18.,  19.,  20.,  21.,\n",
       "        22.,  23.,  24.,  25.,  26.,  27.,  28.,  29.,  30.,  31.,  32.,\n",
       "        33.,  34.,  35.,  36.,  37.,  38.,  39.,  40.,  41.,  42.,  43.,\n",
       "        44.,  45.,  46.,  47.,  48.,  49.,  50.,  51.,  52.,  53.,  54.,\n",
       "        55.,  56.,  57.,  58.,  59.,  60.,  61.,  62.,  63.,  64.,  65.,\n",
       "        66.,  67.,  68.,  69.,  70.,  71.,  72.,  73.,  74.,  75.,  76.,\n",
       "        77.,  78.,  79.,  80.,  81.,  82.,  83.,  84.,  85.,  86.,  87.,\n",
       "        88.,  89.,  90.,  91.,  92.,  93.,  94.,  95.,  96.,  97.,  98.,\n",
       "        99., 100., 101., 102., 103., 104., 105., 106., 107., 108., 109.,\n",
       "       110., 111., 112., 113., 114., 115., 116., 117., 118., 119., 120.,\n",
       "       121., 122., 123., 124., 125., 126., 127., 128., 129., 130., 131.,\n",
       "       132., 133., 134., 135., 136., 137., 138., 139., 140., 141., 142.,\n",
       "       143., 144., 145., 146., 147., 148., 149., 150., 151., 152., 153.,\n",
       "       154., 155., 156., 157., 158., 159., 160., 161., 162., 163., 164.,\n",
       "       165., 166., 167., 168., 169., 170., 171., 172., 173., 174., 175.,\n",
       "       176., 177., 178., 179., 180., 181., 182., 183., 184., 185., 186.,\n",
       "       187., 188., 189., 190., 191., 192., 193., 194., 195., 196., 197.,\n",
       "       198., 199., 200., 201., 202., 203., 204., 205., 206., 207., 208.,\n",
       "       209., 210., 211., 212., 213., 214., 215., 216., 217., 218., 219.,\n",
       "       220., 221., 222., 223., 224., 225., 226., 227., 228., 229., 230.,\n",
       "       231., 232., 233., 234., 235., 236., 237., 238., 239., 240., 241.,\n",
       "       242., 243., 244., 245., 246., 247., 248., 249., 250., 251., 252.,\n",
       "       253., 254., 255., 256., 257., 258., 259., 260., 261., 262., 263.,\n",
       "       264., 265., 266., 267., 268., 269., 270., 271., 272., 273., 274.,\n",
       "       275., 276., 277., 278., 279., 280., 281., 282., 283., 284., 285.,\n",
       "       286., 287., 288., 289., 290., 291., 292., 293., 294., 295., 296.,\n",
       "       297., 298., 299.])"
      ]
     },
     "execution_count": 87,
     "metadata": {},
     "output_type": "execute_result"
    }
   ],
   "source": [
    "test_x = np.empty(300)\n",
    "for i in range(0, 300):\n",
    "    test_x[i] = i\n",
    "test_x"
   ]
  },
  {
   "cell_type": "code",
   "execution_count": 88,
   "metadata": {},
   "outputs": [
    {
     "data": {
      "text/plain": [
       "array([231.54575845, 232.94126863, 234.33677881, 235.73228899,\n",
       "       237.12779917, 238.52330935, 239.91881953, 241.31432971,\n",
       "       242.70983989, 244.10535007, 245.50086026, 246.89637044,\n",
       "       248.29188062, 249.6873908 , 251.08290098, 252.47841116,\n",
       "       253.87392134, 255.26943152, 256.6649417 , 258.06045188,\n",
       "       259.45596206, 260.85147224, 262.24698242, 263.6424926 ,\n",
       "       265.03800278, 266.43351296, 267.82902314, 269.22453332,\n",
       "       270.6200435 , 272.01555368, 273.41106386, 274.80657404,\n",
       "       276.20208422, 277.59759441, 278.99310459, 280.38861477,\n",
       "       281.78412495, 283.17963513, 284.57514531, 285.97065549,\n",
       "       287.36616567, 288.76167585, 290.15718603, 291.55269621,\n",
       "       292.94820639, 294.34371657, 295.73922675, 297.13473693,\n",
       "       298.53024711, 299.92575729, 301.32126747, 302.71677765,\n",
       "       304.11228783, 305.50779801, 306.90330819, 308.29881837,\n",
       "       309.69432856, 311.08983874, 312.48534892, 313.8808591 ,\n",
       "       315.27636928, 316.67187946, 318.06738964, 319.46289982,\n",
       "       320.85841   , 322.25392018, 323.64943036, 325.04494054,\n",
       "       326.44045072, 327.8359609 , 329.23147108, 330.62698126,\n",
       "       332.02249144, 333.41800162, 334.8135118 , 336.20902198,\n",
       "       337.60453216, 339.00004234, 340.39555252, 341.79106271,\n",
       "       343.18657289, 344.58208307, 345.97759325, 347.37310343,\n",
       "       348.76861361, 350.16412379, 351.55963397, 352.95514415,\n",
       "       354.35065433, 355.74616451, 357.14167469, 358.53718487,\n",
       "       359.93269505, 361.32820523, 362.72371541, 364.11922559,\n",
       "       365.51473577, 366.91024595, 368.30575613, 369.70126631,\n",
       "       371.09677649, 372.49228667, 373.88779685, 375.28330704,\n",
       "       376.67881722, 378.0743274 , 379.46983758, 380.86534776,\n",
       "       382.26085794, 383.65636812, 385.0518783 , 386.44738848,\n",
       "       387.84289866, 389.23840884, 390.63391902, 392.0294292 ,\n",
       "       393.42493938, 394.82044956, 396.21595974, 397.61146992,\n",
       "       399.0069801 , 400.40249028, 401.79800046, 403.19351064,\n",
       "       404.58902082, 405.984531  , 407.38004119, 408.77555137,\n",
       "       410.17106155, 411.56657173, 412.96208191, 414.35759209,\n",
       "       415.75310227, 417.14861245, 418.54412263, 419.93963281,\n",
       "       421.33514299, 422.73065317, 424.12616335, 425.52167353,\n",
       "       426.91718371, 428.31269389, 429.70820407, 431.10371425,\n",
       "       432.49922443, 433.89473461, 435.29024479, 436.68575497,\n",
       "       438.08126515, 439.47677534, 440.87228552, 442.2677957 ,\n",
       "       443.66330588, 445.05881606, 446.45432624, 447.84983642,\n",
       "       449.2453466 , 450.64085678, 452.03636696, 453.43187714,\n",
       "       454.82738732, 456.2228975 , 457.61840768, 459.01391786,\n",
       "       460.40942804, 461.80493822, 463.2004484 , 464.59595858,\n",
       "       465.99146876, 467.38697894, 468.78248912, 470.1779993 ,\n",
       "       471.57350949, 472.96901967, 474.36452985, 475.76004003,\n",
       "       477.15555021, 478.55106039, 479.94657057, 481.34208075,\n",
       "       482.73759093, 484.13310111, 485.52861129, 486.92412147,\n",
       "       488.31963165, 489.71514183, 491.11065201, 492.50616219,\n",
       "       493.90167237, 495.29718255, 496.69269273, 498.08820291,\n",
       "       499.48371309, 500.87922327, 502.27473345, 503.67024364,\n",
       "       505.06575382, 506.461264  , 507.85677418, 509.25228436,\n",
       "       510.64779454, 512.04330472, 513.4388149 , 514.83432508,\n",
       "       516.22983526, 517.62534544, 519.02085562, 520.4163658 ,\n",
       "       521.81187598, 523.20738616, 524.60289634, 525.99840652,\n",
       "       527.3939167 , 528.78942688, 530.18493706, 531.58044724,\n",
       "       532.97595742, 534.3714676 , 535.76697778, 537.16248797,\n",
       "       538.55799815, 539.95350833, 541.34901851, 542.74452869,\n",
       "       544.14003887, 545.53554905, 546.93105923, 548.32656941,\n",
       "       549.72207959, 551.11758977, 552.51309995, 553.90861013,\n",
       "       555.30412031, 556.69963049, 558.09514067, 559.49065085,\n",
       "       560.88616103, 562.28167121, 563.67718139, 565.07269157,\n",
       "       566.46820175, 567.86371193, 569.25922212, 570.6547323 ,\n",
       "       572.05024248, 573.44575266, 574.84126284, 576.23677302,\n",
       "       577.6322832 , 579.02779338, 580.42330356, 581.81881374,\n",
       "       583.21432392, 584.6098341 , 586.00534428, 587.40085446,\n",
       "       588.79636464, 590.19187482, 591.587385  , 592.98289518,\n",
       "       594.37840536, 595.77391554, 597.16942572, 598.5649359 ,\n",
       "       599.96044608, 601.35595627, 602.75146645, 604.14697663,\n",
       "       605.54248681, 606.93799699, 608.33350717, 609.72901735,\n",
       "       611.12452753, 612.52003771, 613.91554789, 615.31105807,\n",
       "       616.70656825, 618.10207843, 619.49758861, 620.89309879,\n",
       "       622.28860897, 623.68411915, 625.07962933, 626.47513951,\n",
       "       627.87064969, 629.26615987, 630.66167005, 632.05718023,\n",
       "       633.45269042, 634.8482006 , 636.24371078, 637.63922096,\n",
       "       639.03473114, 640.43024132, 641.8257515 , 643.22126168,\n",
       "       644.61677186, 646.01228204, 647.40779222, 648.8033024 ])"
      ]
     },
     "execution_count": 88,
     "metadata": {},
     "output_type": "execute_result"
    }
   ],
   "source": [
    "test_y = lin_reg.intercept_+lin_reg.coef_*test_x\n",
    "test_y[0]"
   ]
  },
  {
   "cell_type": "code",
   "execution_count": 89,
   "metadata": {},
   "outputs": [
    {
     "data": {
      "image/png": "[encoded data removed]",
      "text/plain": [
       "<Figure size 432x288 with 1 Axes>"
      ]
     },
     "metadata": {},
     "output_type": "display_data"
    }
   ],
   "source": [
    "plt.plot(test_x, test_y[0], '-')\n",
    "plt.plot(train_x, train_y, 'o')\n",
    "plt.show()"
   ]
  },
  {
   "cell_type": "markdown",
   "metadata": {},
   "source": [
    "### 5-2-4 多項式回歸的程式"
   ]
  },
  {
   "cell_type": "code",
   "execution_count": 94,
   "metadata": {},
   "outputs": [
    {
     "data": {
      "text/plain": [
       "array([[55225.],\n",
       "       [46656.],\n",
       "       [21904.],\n",
       "       [ 1225.],\n",
       "       [ 7225.],\n",
       "       [41616.],\n",
       "       [ 2401.],\n",
       "       [  625.],\n",
       "       [29929.],\n",
       "       [36481.],\n",
       "       [17956.],\n",
       "       [ 9801.],\n",
       "       [13689.],\n",
       "       [12544.],\n",
       "       [26244.],\n",
       "       [73984.],\n",
       "       [25281.],\n",
       "       [25281.],\n",
       "       [ 3481.],\n",
       "       [39204.]])"
      ]
     },
     "execution_count": 94,
     "metadata": {},
     "output_type": "execute_result"
    }
   ],
   "source": [
    "train_x_second = train_x.reshape(-1, 1)**2\n",
    "train_x_second"
   ]
  },
  {
   "cell_type": "code",
   "execution_count": 95,
   "metadata": {},
   "outputs": [
    {
     "data": {
      "text/plain": [
       "array([[2.3500e+02, 5.5225e+04],\n",
       "       [2.1600e+02, 4.6656e+04],\n",
       "       [1.4800e+02, 2.1904e+04],\n",
       "       [3.5000e+01, 1.2250e+03],\n",
       "       [8.5000e+01, 7.2250e+03],\n",
       "       [2.0400e+02, 4.1616e+04],\n",
       "       [4.9000e+01, 2.4010e+03],\n",
       "       [2.5000e+01, 6.2500e+02],\n",
       "       [1.7300e+02, 2.9929e+04],\n",
       "       [1.9100e+02, 3.6481e+04],\n",
       "       [1.3400e+02, 1.7956e+04],\n",
       "       [9.9000e+01, 9.8010e+03],\n",
       "       [1.1700e+02, 1.3689e+04],\n",
       "       [1.1200e+02, 1.2544e+04],\n",
       "       [1.6200e+02, 2.6244e+04],\n",
       "       [2.7200e+02, 7.3984e+04],\n",
       "       [1.5900e+02, 2.5281e+04],\n",
       "       [1.5900e+02, 2.5281e+04],\n",
       "       [5.9000e+01, 3.4810e+03],\n",
       "       [1.9800e+02, 3.9204e+04]])"
      ]
     },
     "execution_count": 95,
     "metadata": {},
     "output_type": "execute_result"
    }
   ],
   "source": [
    "train_x_poly = np.append(train_x.reshape(-1, 1), train_x_second, axis=1)\n",
    "train_x_poly"
   ]
  },
  {
   "cell_type": "code",
   "execution_count": 97,
   "metadata": {},
   "outputs": [
    {
     "data": {
      "text/plain": [
       "LinearRegression(copy_X=True, fit_intercept=True, n_jobs=1, normalize=False)"
      ]
     },
     "execution_count": 97,
     "metadata": {},
     "output_type": "execute_result"
    }
   ],
   "source": [
    "lin_reg_poly = LinearRegression()\n",
    "lin_reg_poly.fit(train_x_poly, train_y.reshape(-1, 1))"
   ]
  },
  {
   "cell_type": "code",
   "execution_count": 98,
   "metadata": {},
   "outputs": [
    {
     "data": {
      "text/plain": [
       "array([308.30131975])"
      ]
     },
     "execution_count": 98,
     "metadata": {},
     "output_type": "execute_result"
    }
   ],
   "source": [
    "lin_reg_poly.intercept_"
   ]
  },
  {
   "cell_type": "code",
   "execution_count": 99,
   "metadata": {},
   "outputs": [
    {
     "data": {
      "text/plain": [
       "array([[-0.03888412,  0.00514943]])"
      ]
     },
     "execution_count": 99,
     "metadata": {},
     "output_type": "execute_result"
    }
   ],
   "source": [
    "lin_reg_poly.coef_"
   ]
  },
  {
   "cell_type": "code",
   "execution_count": 100,
   "metadata": {},
   "outputs": [
    {
     "data": {
      "text/plain": [
       "array([  0.,   1.,   2.,   3.,   4.,   5.,   6.,   7.,   8.,   9.,  10.,\n",
       "        11.,  12.,  13.,  14.,  15.,  16.,  17.,  18.,  19.,  20.,  21.,\n",
       "        22.,  23.,  24.,  25.,  26.,  27.,  28.,  29.,  30.,  31.,  32.,\n",
       "        33.,  34.,  35.,  36.,  37.,  38.,  39.,  40.,  41.,  42.,  43.,\n",
       "        44.,  45.,  46.,  47.,  48.,  49.,  50.,  51.,  52.,  53.,  54.,\n",
       "        55.,  56.,  57.,  58.,  59.,  60.,  61.,  62.,  63.,  64.,  65.,\n",
       "        66.,  67.,  68.,  69.,  70.,  71.,  72.,  73.,  74.,  75.,  76.,\n",
       "        77.,  78.,  79.,  80.,  81.,  82.,  83.,  84.,  85.,  86.,  87.,\n",
       "        88.,  89.,  90.,  91.,  92.,  93.,  94.,  95.,  96.,  97.,  98.,\n",
       "        99., 100., 101., 102., 103., 104., 105., 106., 107., 108., 109.,\n",
       "       110., 111., 112., 113., 114., 115., 116., 117., 118., 119., 120.,\n",
       "       121., 122., 123., 124., 125., 126., 127., 128., 129., 130., 131.,\n",
       "       132., 133., 134., 135., 136., 137., 138., 139., 140., 141., 142.,\n",
       "       143., 144., 145., 146., 147., 148., 149., 150., 151., 152., 153.,\n",
       "       154., 155., 156., 157., 158., 159., 160., 161., 162., 163., 164.,\n",
       "       165., 166., 167., 168., 169., 170., 171., 172., 173., 174., 175.,\n",
       "       176., 177., 178., 179., 180., 181., 182., 183., 184., 185., 186.,\n",
       "       187., 188., 189., 190., 191., 192., 193., 194., 195., 196., 197.,\n",
       "       198., 199., 200., 201., 202., 203., 204., 205., 206., 207., 208.,\n",
       "       209., 210., 211., 212., 213., 214., 215., 216., 217., 218., 219.,\n",
       "       220., 221., 222., 223., 224., 225., 226., 227., 228., 229., 230.,\n",
       "       231., 232., 233., 234., 235., 236., 237., 238., 239., 240., 241.,\n",
       "       242., 243., 244., 245., 246., 247., 248., 249., 250., 251., 252.,\n",
       "       253., 254., 255., 256., 257., 258., 259., 260., 261., 262., 263.,\n",
       "       264., 265., 266., 267., 268., 269., 270., 271., 272., 273., 274.,\n",
       "       275., 276., 277., 278., 279., 280., 281., 282., 283., 284., 285.,\n",
       "       286., 287., 288., 289., 290., 291., 292., 293., 294., 295., 296.,\n",
       "       297., 298., 299.])"
      ]
     },
     "execution_count": 100,
     "metadata": {},
     "output_type": "execute_result"
    }
   ],
   "source": [
    "test_poly_x = np.empty(300)\n",
    "for i in range(0, 300):\n",
    "    test_poly_x[i] = i\n",
    "test_poly_x"
   ]
  },
  {
   "cell_type": "code",
   "execution_count": 101,
   "metadata": {},
   "outputs": [],
   "source": [
    "test_poly_y = lin_reg_poly.intercept_ + lin_reg_poly.coef_[0][0]*test_poly_x + lin_reg_poly.coef_[0][1]*test_poly_x**2"
   ]
  },
  {
   "cell_type": "code",
   "execution_count": 102,
   "metadata": {},
   "outputs": [
    {
     "data": {
      "image/png": "[encoded data removed]",
      "text/plain": [
       "<Figure size 432x288 with 1 Axes>"
      ]
     },
     "metadata": {},
     "output_type": "display_data"
    }
   ],
   "source": [
    "plt.plot(test_poly_x, test_poly_y, '-')\n",
    "plt.plot(train_x, train_y, 'o')\n",
    "plt.show()"
   ]
  },
  {
   "cell_type": "markdown",
   "metadata": {},
   "source": [
    "### 5-2-5 隨機梯度下降"
   ]
  },
  {
   "cell_type": "code",
   "execution_count": 103,
   "metadata": {},
   "outputs": [],
   "source": [
    "from sklearn.linear_model import SGDRegressor\n",
    "sgd_reg = SGDRegressor()"
   ]
  },
  {
   "cell_type": "code",
   "execution_count": 110,
   "metadata": {},
   "outputs": [
    {
     "name": "stderr",
     "output_type": "stream",
     "text": [
      "C:\\Users\\lee\\Anaconda3\\lib\\site-packages\\sklearn\\linear_model\\stochastic_gradient.py:128: FutureWarning: max_iter and tol parameters have been added in <class 'sklearn.linear_model.stochastic_gradient.SGDRegressor'> in 0.19. If both are left unset, they default to max_iter=5 and tol=None. If tol is not None, max_iter defaults to max_iter=1000. From 0.21, default max_iter will be 1000, and default tol will be 1e-3.\n",
      "  \"and default tol will be 1e-3.\" % type(self), FutureWarning)\n",
      "C:\\Users\\lee\\Anaconda3\\lib\\site-packages\\sklearn\\utils\\validation.py:578: DataConversionWarning: A column-vector y was passed when a 1d array was expected. Please change the shape of y to (n_samples, ), for example using ravel().\n",
      "  y = column_or_1d(y, warn=True)\n"
     ]
    },
    {
     "data": {
      "text/plain": [
       "SGDRegressor(alpha=0.0001, average=False, epsilon=0.1, eta0=0.01,\n",
       "       fit_intercept=True, l1_ratio=0.15, learning_rate='invscaling',\n",
       "       loss='squared_loss', max_iter=None, n_iter=None, penalty='l2',\n",
       "       power_t=0.25, random_state=None, shuffle=True, tol=None, verbose=0,\n",
       "       warm_start=False)"
      ]
     },
     "execution_count": 110,
     "metadata": {},
     "output_type": "execute_result"
    }
   ],
   "source": [
    "sgd_reg.fit(train_x_poly, train_y.reshape(-1, 1))"
   ]
  },
  {
   "cell_type": "code",
   "execution_count": 111,
   "metadata": {
    "scrolled": true
   },
   "outputs": [
    {
     "data": {
      "text/plain": [
       "array([9.07502149e+09])"
      ]
     },
     "execution_count": 111,
     "metadata": {},
     "output_type": "execute_result"
    }
   ],
   "source": [
    "sgd_reg.intercept_"
   ]
  },
  {
   "cell_type": "code",
   "execution_count": 112,
   "metadata": {},
   "outputs": [
    {
     "data": {
      "text/plain": [
       "789852701691.5598"
      ]
     },
     "execution_count": 112,
     "metadata": {},
     "output_type": "execute_result"
    }
   ],
   "source": [
    "sgd_reg.coef_[0]"
   ]
  },
  {
   "cell_type": "code",
   "execution_count": 113,
   "metadata": {},
   "outputs": [
    {
     "data": {
      "text/plain": [
       "34248866539567.215"
      ]
     },
     "execution_count": 113,
     "metadata": {},
     "output_type": "execute_result"
    }
   ],
   "source": [
    "sgd_reg.coef_[1]"
   ]
  },
  {
   "cell_type": "code",
   "execution_count": 114,
   "metadata": {},
   "outputs": [
    {
     "data": {
      "image/png": "[encoded data removed]",
      "text/plain": [
       "<Figure size 432x288 with 1 Axes>"
      ]
     },
     "metadata": {},
     "output_type": "display_data"
    }
   ],
   "source": [
    "test_poly_y = sgd_reg.intercept_ + sgd_reg.coef_[0]*test_poly_x + sgd_reg.coef_[1]*test_poly_x\n",
    "plt.plot(test_poly_x, test_poly_y, '-')\n",
    "plt.plot(train_x, train_y, 'o')\n",
    "plt.show()"
   ]
  },
  {
   "cell_type": "code",
   "execution_count": null,
   "metadata": {},
   "outputs": [],
   "source": []
  },
  {
   "cell_type": "code",
   "execution_count": null,
   "metadata": {},
   "outputs": [],
   "source": []
  }
 ],
 "metadata": {
  "kernelspec": {
   "display_name": "Python 3",
   "language": "python",
   "name": "python3"
  },
  "language_info": {
   "codemirror_mode": {
    "name": "ipython",
    "version": 3
   },
   "file_extension": ".py",
   "mimetype": "text/x-python",
   "name": "python",
   "nbconvert_exporter": "python",
   "pygments_lexer": "ipython3",
   "version": "3.6.5"
  }
 },
 "nbformat": 4,
 "nbformat_minor": 2
}
